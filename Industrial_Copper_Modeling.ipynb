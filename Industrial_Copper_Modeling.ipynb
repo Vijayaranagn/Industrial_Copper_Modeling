{
  "nbformat": 4,
  "nbformat_minor": 0,
  "metadata": {
    "colab": {
      "provenance": [],
      "authorship_tag": "ABX9TyPWj876/ITR3QsM+6Gw/Wmr",
      "include_colab_link": true
    },
    "kernelspec": {
      "name": "python3",
      "display_name": "Python 3"
    },
    "language_info": {
      "name": "python"
    }
  },
  "cells": [
    {
      "cell_type": "markdown",
      "metadata": {
        "id": "view-in-github",
        "colab_type": "text"
      },
      "source": [
        "<a href=\"https://colab.research.google.com/github/Vijayaranagn/Industrial_Copper_Modeling/blob/main/Industrial_Copper_Modeling.ipynb\" target=\"_parent\"><img src=\"https://colab.research.google.com/assets/colab-badge.svg\" alt=\"Open In Colab\"/></a>"
      ]
    },
    {
      "cell_type": "markdown",
      "source": [
        "# **Problem Statement:**\n",
        "The copper industry deals with less complex data related to sales and pricing. However, this data may suffer from issues such as skewness and noisy data, which can affect the accuracy of manual predictions. Dealing with these challenges manually can be time-consuming and may not result in optimal pricing decisions. A machine learning regression model can address these issues by utilizing advanced techniques such as data normalization, feature scaling, and outlier detection, and leveraging algorithms that are robust to skewed and noisy data. \n",
        "\n",
        "\n",
        "Another area where the copper industry faces challenges is in capturing the leads. A lead classification model is a system for evaluating and classifying leads based on how likely they are to become a customer . You can use the STATUS variable with WON being considered as Success and LOST being considered as Failure and remove data points other than WON, LOST STATUS values.\n"
      ],
      "metadata": {
        "id": "XOA1woGHpxHa"
      }
    },
    {
      "cell_type": "markdown",
      "source": [
        "**Import Needed packages**"
      ],
      "metadata": {
        "id": "E3gwi4w1I9pp"
      }
    },
    {
      "cell_type": "code",
      "execution_count": null,
      "metadata": {
        "id": "aKThtdhSpfRQ"
      },
      "outputs": [],
      "source": [
        "import pandas as pd\n",
        "import numpy as np\n",
        "\n",
        "from sklearn.model_selection import train_test_split \n",
        "\n",
        "from sklearn import metrics \n",
        "import seaborn as sns \n",
        "import matplotlib.pyplot as plt \n",
        "\n",
        "import warnings \n",
        "warnings.filterwarnings(\"ignore\")"
      ]
    },
    {
      "cell_type": "code",
      "source": [
        "df = pd.read_csv(\"/content/daily_offers.csv\")\n",
        "df.head()"
      ],
      "metadata": {
        "colab": {
          "base_uri": "https://localhost:8080/",
          "height": 530
        },
        "id": "-XWvwu5cJP_z",
        "outputId": "30c9f6e1-efeb-4c62-bd54-08b9fd684422"
      },
      "execution_count": null,
      "outputs": [
        {
          "output_type": "execute_result",
          "data": {
            "text/plain": [
              "                                     id   item_date quantity tons    customer  \\\n",
              "0  EC06F063-9DF0-440C-8764-0B0C05A4F6AE  20210401.0     54.151139  30156308.0   \n",
              "1  4E5F4B3D-DDDF-499D-AFDE-A3227EC49425  20210401.0    768.024839  30202938.0   \n",
              "2  E140FF1B-2407-4C02-A0DD-780A093B1158  20210401.0    386.127949  30153963.0   \n",
              "3  F8D507A0-9C62-4EFE-831E-33E1DA53BB50  20210401.0    202.411065  30349574.0   \n",
              "4  4E1C4E78-152B-430A-8094-ADD889C9D0AD  20210401.0    785.526262  30211560.0   \n",
              "\n",
              "   country status item type  application  thickness   width  \\\n",
              "0     28.0    Won         W         10.0       2.00  1500.0   \n",
              "1     25.0    Won         W         41.0       0.80  1210.0   \n",
              "2     30.0    Won        WI         28.0       0.38   952.0   \n",
              "3     32.0    Won         S         59.0       2.30  1317.0   \n",
              "4     28.0    Won         W         10.0       4.00  2000.0   \n",
              "\n",
              "                               material_ref  product_ref  delivery date  \\\n",
              "0                               DEQ1 S460MC   1670798778     20210701.0   \n",
              "1  0000000000000000000000000000000000104991   1668701718     20210401.0   \n",
              "2                                  S0380700       628377     20210101.0   \n",
              "3                   DX51D+ZM310MAO 2.3X1317   1668701718     20210101.0   \n",
              "4                           2_S275JR+AR-CL1       640665     20210301.0   \n",
              "\n",
              "   selling_price  \n",
              "0         854.00  \n",
              "1        1047.00  \n",
              "2         644.33  \n",
              "3         768.00  \n",
              "4         577.00  "
            ],
            "text/html": [
              "\n",
              "  <div id=\"df-ac8264a4-af19-4345-91f3-50c5390034bc\">\n",
              "    <div class=\"colab-df-container\">\n",
              "      <div>\n",
              "<style scoped>\n",
              "    .dataframe tbody tr th:only-of-type {\n",
              "        vertical-align: middle;\n",
              "    }\n",
              "\n",
              "    .dataframe tbody tr th {\n",
              "        vertical-align: top;\n",
              "    }\n",
              "\n",
              "    .dataframe thead th {\n",
              "        text-align: right;\n",
              "    }\n",
              "</style>\n",
              "<table border=\"1\" class=\"dataframe\">\n",
              "  <thead>\n",
              "    <tr style=\"text-align: right;\">\n",
              "      <th></th>\n",
              "      <th>id</th>\n",
              "      <th>item_date</th>\n",
              "      <th>quantity tons</th>\n",
              "      <th>customer</th>\n",
              "      <th>country</th>\n",
              "      <th>status</th>\n",
              "      <th>item type</th>\n",
              "      <th>application</th>\n",
              "      <th>thickness</th>\n",
              "      <th>width</th>\n",
              "      <th>material_ref</th>\n",
              "      <th>product_ref</th>\n",
              "      <th>delivery date</th>\n",
              "      <th>selling_price</th>\n",
              "    </tr>\n",
              "  </thead>\n",
              "  <tbody>\n",
              "    <tr>\n",
              "      <th>0</th>\n",
              "      <td>EC06F063-9DF0-440C-8764-0B0C05A4F6AE</td>\n",
              "      <td>20210401.0</td>\n",
              "      <td>54.151139</td>\n",
              "      <td>30156308.0</td>\n",
              "      <td>28.0</td>\n",
              "      <td>Won</td>\n",
              "      <td>W</td>\n",
              "      <td>10.0</td>\n",
              "      <td>2.00</td>\n",
              "      <td>1500.0</td>\n",
              "      <td>DEQ1 S460MC</td>\n",
              "      <td>1670798778</td>\n",
              "      <td>20210701.0</td>\n",
              "      <td>854.00</td>\n",
              "    </tr>\n",
              "    <tr>\n",
              "      <th>1</th>\n",
              "      <td>4E5F4B3D-DDDF-499D-AFDE-A3227EC49425</td>\n",
              "      <td>20210401.0</td>\n",
              "      <td>768.024839</td>\n",
              "      <td>30202938.0</td>\n",
              "      <td>25.0</td>\n",
              "      <td>Won</td>\n",
              "      <td>W</td>\n",
              "      <td>41.0</td>\n",
              "      <td>0.80</td>\n",
              "      <td>1210.0</td>\n",
              "      <td>0000000000000000000000000000000000104991</td>\n",
              "      <td>1668701718</td>\n",
              "      <td>20210401.0</td>\n",
              "      <td>1047.00</td>\n",
              "    </tr>\n",
              "    <tr>\n",
              "      <th>2</th>\n",
              "      <td>E140FF1B-2407-4C02-A0DD-780A093B1158</td>\n",
              "      <td>20210401.0</td>\n",
              "      <td>386.127949</td>\n",
              "      <td>30153963.0</td>\n",
              "      <td>30.0</td>\n",
              "      <td>Won</td>\n",
              "      <td>WI</td>\n",
              "      <td>28.0</td>\n",
              "      <td>0.38</td>\n",
              "      <td>952.0</td>\n",
              "      <td>S0380700</td>\n",
              "      <td>628377</td>\n",
              "      <td>20210101.0</td>\n",
              "      <td>644.33</td>\n",
              "    </tr>\n",
              "    <tr>\n",
              "      <th>3</th>\n",
              "      <td>F8D507A0-9C62-4EFE-831E-33E1DA53BB50</td>\n",
              "      <td>20210401.0</td>\n",
              "      <td>202.411065</td>\n",
              "      <td>30349574.0</td>\n",
              "      <td>32.0</td>\n",
              "      <td>Won</td>\n",
              "      <td>S</td>\n",
              "      <td>59.0</td>\n",
              "      <td>2.30</td>\n",
              "      <td>1317.0</td>\n",
              "      <td>DX51D+ZM310MAO 2.3X1317</td>\n",
              "      <td>1668701718</td>\n",
              "      <td>20210101.0</td>\n",
              "      <td>768.00</td>\n",
              "    </tr>\n",
              "    <tr>\n",
              "      <th>4</th>\n",
              "      <td>4E1C4E78-152B-430A-8094-ADD889C9D0AD</td>\n",
              "      <td>20210401.0</td>\n",
              "      <td>785.526262</td>\n",
              "      <td>30211560.0</td>\n",
              "      <td>28.0</td>\n",
              "      <td>Won</td>\n",
              "      <td>W</td>\n",
              "      <td>10.0</td>\n",
              "      <td>4.00</td>\n",
              "      <td>2000.0</td>\n",
              "      <td>2_S275JR+AR-CL1</td>\n",
              "      <td>640665</td>\n",
              "      <td>20210301.0</td>\n",
              "      <td>577.00</td>\n",
              "    </tr>\n",
              "  </tbody>\n",
              "</table>\n",
              "</div>\n",
              "      <button class=\"colab-df-convert\" onclick=\"convertToInteractive('df-ac8264a4-af19-4345-91f3-50c5390034bc')\"\n",
              "              title=\"Convert this dataframe to an interactive table.\"\n",
              "              style=\"display:none;\">\n",
              "        \n",
              "  <svg xmlns=\"http://www.w3.org/2000/svg\" height=\"24px\"viewBox=\"0 0 24 24\"\n",
              "       width=\"24px\">\n",
              "    <path d=\"M0 0h24v24H0V0z\" fill=\"none\"/>\n",
              "    <path d=\"M18.56 5.44l.94 2.06.94-2.06 2.06-.94-2.06-.94-.94-2.06-.94 2.06-2.06.94zm-11 1L8.5 8.5l.94-2.06 2.06-.94-2.06-.94L8.5 2.5l-.94 2.06-2.06.94zm10 10l.94 2.06.94-2.06 2.06-.94-2.06-.94-.94-2.06-.94 2.06-2.06.94z\"/><path d=\"M17.41 7.96l-1.37-1.37c-.4-.4-.92-.59-1.43-.59-.52 0-1.04.2-1.43.59L10.3 9.45l-7.72 7.72c-.78.78-.78 2.05 0 2.83L4 21.41c.39.39.9.59 1.41.59.51 0 1.02-.2 1.41-.59l7.78-7.78 2.81-2.81c.8-.78.8-2.07 0-2.86zM5.41 20L4 18.59l7.72-7.72 1.47 1.35L5.41 20z\"/>\n",
              "  </svg>\n",
              "      </button>\n",
              "      \n",
              "  <style>\n",
              "    .colab-df-container {\n",
              "      display:flex;\n",
              "      flex-wrap:wrap;\n",
              "      gap: 12px;\n",
              "    }\n",
              "\n",
              "    .colab-df-convert {\n",
              "      background-color: #E8F0FE;\n",
              "      border: none;\n",
              "      border-radius: 50%;\n",
              "      cursor: pointer;\n",
              "      display: none;\n",
              "      fill: #1967D2;\n",
              "      height: 32px;\n",
              "      padding: 0 0 0 0;\n",
              "      width: 32px;\n",
              "    }\n",
              "\n",
              "    .colab-df-convert:hover {\n",
              "      background-color: #E2EBFA;\n",
              "      box-shadow: 0px 1px 2px rgba(60, 64, 67, 0.3), 0px 1px 3px 1px rgba(60, 64, 67, 0.15);\n",
              "      fill: #174EA6;\n",
              "    }\n",
              "\n",
              "    [theme=dark] .colab-df-convert {\n",
              "      background-color: #3B4455;\n",
              "      fill: #D2E3FC;\n",
              "    }\n",
              "\n",
              "    [theme=dark] .colab-df-convert:hover {\n",
              "      background-color: #434B5C;\n",
              "      box-shadow: 0px 1px 3px 1px rgba(0, 0, 0, 0.15);\n",
              "      filter: drop-shadow(0px 1px 2px rgba(0, 0, 0, 0.3));\n",
              "      fill: #FFFFFF;\n",
              "    }\n",
              "  </style>\n",
              "\n",
              "      <script>\n",
              "        const buttonEl =\n",
              "          document.querySelector('#df-ac8264a4-af19-4345-91f3-50c5390034bc button.colab-df-convert');\n",
              "        buttonEl.style.display =\n",
              "          google.colab.kernel.accessAllowed ? 'block' : 'none';\n",
              "\n",
              "        async function convertToInteractive(key) {\n",
              "          const element = document.querySelector('#df-ac8264a4-af19-4345-91f3-50c5390034bc');\n",
              "          const dataTable =\n",
              "            await google.colab.kernel.invokeFunction('convertToInteractive',\n",
              "                                                     [key], {});\n",
              "          if (!dataTable) return;\n",
              "\n",
              "          const docLinkHtml = 'Like what you see? Visit the ' +\n",
              "            '<a target=\"_blank\" href=https://colab.research.google.com/notebooks/data_table.ipynb>data table notebook</a>'\n",
              "            + ' to learn more about interactive tables.';\n",
              "          element.innerHTML = '';\n",
              "          dataTable['output_type'] = 'display_data';\n",
              "          await google.colab.output.renderOutput(dataTable, element);\n",
              "          const docLink = document.createElement('div');\n",
              "          docLink.innerHTML = docLinkHtml;\n",
              "          element.appendChild(docLink);\n",
              "        }\n",
              "      </script>\n",
              "    </div>\n",
              "  </div>\n",
              "  "
            ]
          },
          "metadata": {},
          "execution_count": 2
        }
      ]
    },
    {
      "cell_type": "code",
      "source": [
        "df.shape"
      ],
      "metadata": {
        "colab": {
          "base_uri": "https://localhost:8080/"
        },
        "id": "d5wmiHcqJZtR",
        "outputId": "c21e60cb-ebdc-4add-e39a-b78fa6314310"
      },
      "execution_count": null,
      "outputs": [
        {
          "output_type": "execute_result",
          "data": {
            "text/plain": [
              "(181673, 14)"
            ]
          },
          "metadata": {},
          "execution_count": 3
        }
      ]
    },
    {
      "cell_type": "code",
      "source": [
        "df1 = df.copy()"
      ],
      "metadata": {
        "id": "gOb93BFfLyzs"
      },
      "execution_count": null,
      "outputs": []
    },
    {
      "cell_type": "code",
      "source": [
        "df.columns"
      ],
      "metadata": {
        "colab": {
          "base_uri": "https://localhost:8080/"
        },
        "id": "QtlN_e-tETyB",
        "outputId": "5b00b5e7-a931-47ff-b933-d6a9e62762e3"
      },
      "execution_count": null,
      "outputs": [
        {
          "output_type": "execute_result",
          "data": {
            "text/plain": [
              "Index(['id', 'item_date', 'quantity tons', 'customer', 'country', 'status',\n",
              "       'item type', 'application', 'thickness', 'width', 'material_ref',\n",
              "       'product_ref', 'delivery date', 'selling_price'],\n",
              "      dtype='object')"
            ]
          },
          "metadata": {},
          "execution_count": 5
        }
      ]
    },
    {
      "cell_type": "code",
      "source": [
        "df.info()"
      ],
      "metadata": {
        "colab": {
          "base_uri": "https://localhost:8080/"
        },
        "id": "tF8CUqDFEW54",
        "outputId": "63c62371-3232-433c-93bc-960090373eca"
      },
      "execution_count": null,
      "outputs": [
        {
          "output_type": "stream",
          "name": "stdout",
          "text": [
            "<class 'pandas.core.frame.DataFrame'>\n",
            "RangeIndex: 181673 entries, 0 to 181672\n",
            "Data columns (total 14 columns):\n",
            " #   Column         Non-Null Count   Dtype  \n",
            "---  ------         --------------   -----  \n",
            " 0   id             181671 non-null  object \n",
            " 1   item_date      181672 non-null  float64\n",
            " 2   quantity tons  181673 non-null  object \n",
            " 3   customer       181672 non-null  float64\n",
            " 4   country        181645 non-null  float64\n",
            " 5   status         181671 non-null  object \n",
            " 6   item type      181673 non-null  object \n",
            " 7   application    181649 non-null  float64\n",
            " 8   thickness      181672 non-null  float64\n",
            " 9   width          181673 non-null  float64\n",
            " 10  material_ref   103754 non-null  object \n",
            " 11  product_ref    181673 non-null  int64  \n",
            " 12  delivery date  181672 non-null  float64\n",
            " 13  selling_price  181672 non-null  float64\n",
            "dtypes: float64(8), int64(1), object(5)\n",
            "memory usage: 19.4+ MB\n"
          ]
        }
      ]
    },
    {
      "cell_type": "markdown",
      "source": [
        "# **Dealing with data in wrong format**"
      ],
      "metadata": {
        "id": "C2GUNP1sYsIo"
      }
    },
    {
      "cell_type": "code",
      "source": [
        "# dealing with data in wrong format\n",
        "# for categorical variables, this step is ignored\n",
        "# df = df[df['status'].isin(['Won', 'Lost'])]\n",
        "\n",
        "df['item_date'] = pd.to_datetime(df['item_date'], format='%Y%m%d', errors='coerce').dt.date\n",
        "df['quantity tons'] = pd.to_numeric(df['quantity tons'], errors='coerce')\n",
        "df['customer'] = pd.to_numeric(df['customer'], errors='coerce')\n",
        "df['country'] = pd.to_numeric(df['country'], errors='coerce')\n",
        "df['application'] = pd.to_numeric(df['application'], errors='coerce')\n",
        "df['thickness'] = pd.to_numeric(df['thickness'], errors='coerce')\n",
        "df['width'] = pd.to_numeric(df['width'], errors='coerce')\n",
        "df['material_ref'] = df['material_ref'].str.lstrip('0')\n",
        "df['product_ref'] = pd.to_numeric(df['product_ref'], errors='coerce')\n",
        "df['delivery date'] = pd.to_datetime(df['delivery date'], format='%Y%m%d', errors='coerce').dt.date\n",
        "df['selling_price'] = pd.to_numeric(df['selling_price'], errors='coerce')"
      ],
      "metadata": {
        "id": "Tril4oUoX3Di"
      },
      "execution_count": null,
      "outputs": []
    },
    {
      "cell_type": "code",
      "source": [
        "df[\"id\"].value_counts()"
      ],
      "metadata": {
        "colab": {
          "base_uri": "https://localhost:8080/"
        },
        "id": "8qimLmla6w52",
        "outputId": "7cd7846d-8bc3-47b2-c8ff-c9db309a6753"
      },
      "execution_count": null,
      "outputs": [
        {
          "output_type": "execute_result",
          "data": {
            "text/plain": [
              "EC06F063-9DF0-440C-8764-0B0C05A4F6AE    1\n",
              "65203CB6-89D8-4BE3-ACBE-E5EDA0F5ACDC    1\n",
              "3020E716-130E-4456-BD0A-57C4A519BE58    1\n",
              "588AE510-4CB5-4A28-97D7-7F7A1E0BD0DD    1\n",
              "15300D43-0ED4-49B2-B2CC-759D03E3EACC    1\n",
              "                                       ..\n",
              "679C1F30-3ABA-49F7-8B01-F50FEDD6D916    1\n",
              "ACDD75A4-85DD-4E44-89E8-0E55CA952F85    1\n",
              "40F88F5B-6C88-4896-81D0-DEE88A9F1C0A    1\n",
              "3F6C6143-0A6D-4C87-B05E-1FC6973D173A    1\n",
              "AD0CA853-AE3C-4B2F-9FBB-8B0B965F84BC    1\n",
              "Name: id, Length: 181671, dtype: int64"
            ]
          },
          "metadata": {},
          "execution_count": 11
        }
      ]
    },
    {
      "cell_type": "code",
      "source": [
        "df[\"item_date\"].unique()"
      ],
      "metadata": {
        "id": "0HJPuVPs6_2U",
        "outputId": "2a015b7a-5ad5-43ee-dfa8-521fa00c8f33",
        "colab": {
          "base_uri": "https://localhost:8080/"
        }
      },
      "execution_count": null,
      "outputs": [
        {
          "output_type": "execute_result",
          "data": {
            "text/plain": [
              "array([datetime.date(2021, 4, 1), NaT, datetime.date(2021, 3, 31),\n",
              "       datetime.date(2021, 3, 30), datetime.date(2021, 3, 29),\n",
              "       datetime.date(2021, 3, 28), datetime.date(2021, 3, 27),\n",
              "       datetime.date(2021, 3, 26), datetime.date(2021, 3, 25),\n",
              "       datetime.date(2021, 3, 24), datetime.date(2021, 3, 23),\n",
              "       datetime.date(2021, 3, 22), datetime.date(2021, 3, 19),\n",
              "       datetime.date(2021, 3, 18), datetime.date(2021, 3, 17),\n",
              "       datetime.date(2021, 3, 16), datetime.date(2021, 3, 15),\n",
              "       datetime.date(2021, 3, 14), datetime.date(2021, 3, 13),\n",
              "       datetime.date(2021, 3, 12), datetime.date(2021, 3, 11),\n",
              "       datetime.date(2021, 3, 10), datetime.date(2021, 3, 9),\n",
              "       datetime.date(2021, 3, 8), datetime.date(2021, 3, 7),\n",
              "       datetime.date(2021, 3, 6), datetime.date(2021, 3, 5),\n",
              "       datetime.date(2021, 3, 4), datetime.date(2021, 3, 3),\n",
              "       datetime.date(2021, 3, 2), datetime.date(2021, 3, 1),\n",
              "       datetime.date(2021, 2, 28), datetime.date(2021, 2, 27),\n",
              "       datetime.date(2021, 2, 26), datetime.date(2021, 2, 25),\n",
              "       datetime.date(2021, 2, 24), datetime.date(2021, 2, 23),\n",
              "       datetime.date(2021, 2, 22), datetime.date(2021, 2, 21),\n",
              "       datetime.date(2021, 2, 20), datetime.date(2021, 2, 19),\n",
              "       datetime.date(2021, 2, 18), datetime.date(2021, 2, 17),\n",
              "       datetime.date(2021, 2, 16), datetime.date(2021, 2, 15),\n",
              "       datetime.date(2021, 2, 14), datetime.date(2021, 2, 13),\n",
              "       datetime.date(2021, 2, 12), datetime.date(2021, 2, 11),\n",
              "       datetime.date(2021, 2, 10), datetime.date(2021, 2, 9),\n",
              "       datetime.date(2021, 2, 8), datetime.date(2021, 2, 7),\n",
              "       datetime.date(2021, 2, 5), datetime.date(2021, 2, 4),\n",
              "       datetime.date(2021, 2, 3), datetime.date(2021, 2, 2),\n",
              "       datetime.date(2021, 2, 1), datetime.date(2021, 1, 31),\n",
              "       datetime.date(2021, 1, 30), datetime.date(2021, 1, 29),\n",
              "       datetime.date(2021, 1, 28), datetime.date(2021, 1, 27),\n",
              "       datetime.date(2021, 1, 26), datetime.date(2021, 1, 25),\n",
              "       datetime.date(2021, 1, 24), datetime.date(2021, 1, 22),\n",
              "       datetime.date(2021, 1, 21), datetime.date(2021, 1, 20),\n",
              "       datetime.date(2021, 1, 19), datetime.date(2021, 1, 18),\n",
              "       datetime.date(2021, 1, 17), datetime.date(2021, 1, 16),\n",
              "       datetime.date(2021, 1, 15), datetime.date(2021, 1, 14),\n",
              "       datetime.date(2021, 1, 13), datetime.date(2021, 1, 12),\n",
              "       datetime.date(2021, 1, 11), datetime.date(2021, 1, 10),\n",
              "       datetime.date(2021, 1, 9), datetime.date(2021, 1, 8),\n",
              "       datetime.date(2021, 1, 7), datetime.date(2021, 1, 6),\n",
              "       datetime.date(2021, 1, 5), datetime.date(2021, 1, 4),\n",
              "       datetime.date(2021, 1, 3), datetime.date(2020, 12, 31),\n",
              "       datetime.date(2020, 12, 30), datetime.date(2020, 12, 29),\n",
              "       datetime.date(2020, 12, 28), datetime.date(2020, 12, 27),\n",
              "       datetime.date(2020, 12, 26), datetime.date(2020, 12, 24),\n",
              "       datetime.date(2020, 12, 23), datetime.date(2020, 12, 22),\n",
              "       datetime.date(2020, 12, 21), datetime.date(2020, 12, 19),\n",
              "       datetime.date(2020, 12, 18), datetime.date(2020, 12, 17),\n",
              "       datetime.date(2020, 12, 16), datetime.date(2020, 12, 15),\n",
              "       datetime.date(2020, 12, 14), datetime.date(2020, 12, 13),\n",
              "       datetime.date(2020, 12, 12), datetime.date(2020, 12, 11),\n",
              "       datetime.date(2020, 12, 10), datetime.date(2020, 12, 9),\n",
              "       datetime.date(2020, 12, 8), datetime.date(2020, 12, 7),\n",
              "       datetime.date(2020, 12, 6), datetime.date(2020, 12, 5),\n",
              "       datetime.date(2020, 12, 4), datetime.date(2020, 12, 3),\n",
              "       datetime.date(2020, 12, 2), datetime.date(2020, 12, 1),\n",
              "       datetime.date(2020, 11, 30), datetime.date(2020, 11, 29),\n",
              "       datetime.date(2020, 11, 28), datetime.date(2020, 11, 27),\n",
              "       datetime.date(2020, 11, 26), datetime.date(2020, 11, 25),\n",
              "       datetime.date(2020, 11, 24), datetime.date(2020, 11, 23),\n",
              "       datetime.date(2020, 11, 22), datetime.date(2020, 11, 20),\n",
              "       datetime.date(2020, 11, 19), datetime.date(2020, 11, 18),\n",
              "       datetime.date(2020, 11, 17), datetime.date(2020, 11, 16),\n",
              "       datetime.date(2020, 11, 15), datetime.date(2020, 11, 14),\n",
              "       datetime.date(2020, 11, 13), datetime.date(2020, 11, 12),\n",
              "       datetime.date(2020, 11, 11), datetime.date(2020, 11, 10),\n",
              "       datetime.date(2020, 11, 9), datetime.date(2020, 11, 6),\n",
              "       datetime.date(2020, 11, 5), datetime.date(2020, 11, 4),\n",
              "       datetime.date(2020, 11, 3), datetime.date(2020, 11, 2),\n",
              "       datetime.date(2020, 11, 1), datetime.date(2020, 10, 30),\n",
              "       datetime.date(2020, 10, 29), datetime.date(2020, 10, 28),\n",
              "       datetime.date(2020, 10, 27), datetime.date(2020, 10, 26),\n",
              "       datetime.date(2020, 10, 25), datetime.date(2020, 10, 24),\n",
              "       datetime.date(2020, 10, 23), datetime.date(2020, 10, 22),\n",
              "       datetime.date(2020, 10, 21), datetime.date(2020, 10, 20),\n",
              "       datetime.date(2020, 10, 19), datetime.date(2020, 10, 18),\n",
              "       datetime.date(2020, 10, 16), datetime.date(2020, 10, 15),\n",
              "       datetime.date(2020, 10, 14), datetime.date(2020, 10, 13),\n",
              "       datetime.date(2020, 10, 12), datetime.date(2020, 10, 11),\n",
              "       datetime.date(2020, 10, 9), datetime.date(2020, 10, 8),\n",
              "       datetime.date(2020, 10, 7), datetime.date(2020, 10, 6),\n",
              "       datetime.date(2020, 10, 5), datetime.date(2020, 10, 4),\n",
              "       datetime.date(2020, 10, 2), datetime.date(2020, 10, 1),\n",
              "       datetime.date(2020, 9, 30), datetime.date(2020, 9, 29),\n",
              "       datetime.date(2020, 9, 28), datetime.date(2020, 9, 25),\n",
              "       datetime.date(2020, 9, 24), datetime.date(2020, 9, 23),\n",
              "       datetime.date(2020, 9, 22), datetime.date(2020, 9, 21),\n",
              "       datetime.date(2020, 9, 20), datetime.date(2020, 9, 19),\n",
              "       datetime.date(2020, 9, 18), datetime.date(2020, 9, 17),\n",
              "       datetime.date(2020, 9, 16), datetime.date(2020, 9, 15),\n",
              "       datetime.date(2020, 9, 14), datetime.date(2020, 9, 13),\n",
              "       datetime.date(2020, 9, 11), datetime.date(2020, 9, 10),\n",
              "       datetime.date(2020, 9, 9), datetime.date(2020, 9, 8),\n",
              "       datetime.date(2020, 9, 7), datetime.date(2020, 9, 6),\n",
              "       datetime.date(2020, 9, 5), datetime.date(2020, 9, 4),\n",
              "       datetime.date(2020, 9, 3), datetime.date(2020, 9, 2),\n",
              "       datetime.date(2020, 9, 1), datetime.date(2020, 8, 31),\n",
              "       datetime.date(2020, 8, 29), datetime.date(2020, 8, 28),\n",
              "       datetime.date(2020, 8, 27), datetime.date(2020, 8, 26),\n",
              "       datetime.date(2020, 8, 25), datetime.date(2020, 8, 24),\n",
              "       datetime.date(2020, 8, 22), datetime.date(2020, 8, 21),\n",
              "       datetime.date(2020, 8, 20), datetime.date(2020, 8, 19),\n",
              "       datetime.date(2020, 8, 18), datetime.date(2020, 8, 17),\n",
              "       datetime.date(2020, 8, 15), datetime.date(2020, 8, 14),\n",
              "       datetime.date(2020, 8, 13), datetime.date(2020, 8, 12),\n",
              "       datetime.date(2020, 8, 11), datetime.date(2020, 8, 10),\n",
              "       datetime.date(2020, 8, 9), datetime.date(2020, 8, 7),\n",
              "       datetime.date(2020, 8, 6), datetime.date(2020, 8, 5),\n",
              "       datetime.date(2020, 8, 4), datetime.date(2020, 8, 3),\n",
              "       datetime.date(2020, 8, 2), datetime.date(2020, 8, 1),\n",
              "       datetime.date(2020, 7, 31), datetime.date(2020, 7, 30),\n",
              "       datetime.date(2020, 7, 29), datetime.date(2020, 7, 28),\n",
              "       datetime.date(2020, 7, 27), datetime.date(2020, 7, 26),\n",
              "       datetime.date(2020, 7, 24), datetime.date(2020, 7, 23),\n",
              "       datetime.date(2020, 7, 22), datetime.date(2020, 7, 21),\n",
              "       datetime.date(2020, 7, 20), datetime.date(2020, 7, 19),\n",
              "       datetime.date(2020, 7, 18), datetime.date(2020, 7, 17),\n",
              "       datetime.date(2020, 7, 16), datetime.date(2020, 7, 15),\n",
              "       datetime.date(2020, 7, 14), datetime.date(2020, 7, 13),\n",
              "       datetime.date(2020, 7, 12), datetime.date(2020, 7, 10),\n",
              "       datetime.date(2020, 7, 9), datetime.date(2020, 7, 8),\n",
              "       datetime.date(2020, 7, 7), datetime.date(2020, 7, 6),\n",
              "       datetime.date(2020, 7, 5), datetime.date(2020, 7, 4),\n",
              "       datetime.date(2020, 7, 3), datetime.date(2020, 7, 2)], dtype=object)"
            ]
          },
          "metadata": {},
          "execution_count": 12
        }
      ]
    },
    {
      "cell_type": "code",
      "source": [
        "df[\"quantity tons\"].unique()"
      ],
      "metadata": {
        "colab": {
          "base_uri": "https://localhost:8080/"
        },
        "id": "lVbwsclTEvwI",
        "outputId": "77eed58b-ccbe-4650-91fe-90d2b88efdf3"
      },
      "execution_count": null,
      "outputs": [
        {
          "output_type": "execute_result",
          "data": {
            "text/plain": [
              "array([   54.15113862,   768.0248392 ,   386.1279489 , ...,\n",
              "           4.23559357, -2000.        ,   406.6865384 ])"
            ]
          },
          "metadata": {},
          "execution_count": 13
        }
      ]
    },
    {
      "cell_type": "code",
      "source": [
        "df[\"customer\"].unique()"
      ],
      "metadata": {
        "colab": {
          "base_uri": "https://localhost:8080/"
        },
        "id": "zhPJF3F-RxhC",
        "outputId": "c14b44b0-93df-41fb-b87f-1684aeffad5d"
      },
      "execution_count": null,
      "outputs": [
        {
          "output_type": "execute_result",
          "data": {
            "text/plain": [
              "array([30156308., 30202938., 30153963., ..., 30349515., 30284694.,\n",
              "       30161559.])"
            ]
          },
          "metadata": {},
          "execution_count": 14
        }
      ]
    },
    {
      "cell_type": "code",
      "source": [
        "df[\"country\"].unique()"
      ],
      "metadata": {
        "colab": {
          "base_uri": "https://localhost:8080/"
        },
        "id": "KDMYhTCxR42a",
        "outputId": "87d00447-7a96-4e55-f97d-65a2b62692ca"
      },
      "execution_count": null,
      "outputs": [
        {
          "output_type": "execute_result",
          "data": {
            "text/plain": [
              "array([ 28.,  25.,  30.,  32.,  38.,  78.,  27.,  77., 113.,  79.,  26.,\n",
              "        39.,  40.,  84.,  80., 107.,  89.,  nan])"
            ]
          },
          "metadata": {},
          "execution_count": 15
        }
      ]
    },
    {
      "cell_type": "code",
      "source": [
        "df[\"status\"].value_counts()"
      ],
      "metadata": {
        "colab": {
          "base_uri": "https://localhost:8080/"
        },
        "id": "0R9jTXsjUtdp",
        "outputId": "f3423e4c-a360-41c7-d0c4-f078a55674f3"
      },
      "execution_count": null,
      "outputs": [
        {
          "output_type": "execute_result",
          "data": {
            "text/plain": [
              "Won                116010\n",
              "Lost                34438\n",
              "Not lost for AM     19573\n",
              "Revised              4276\n",
              "To be approved       4170\n",
              "Draft                3140\n",
              "Offered                53\n",
              "Offerable              10\n",
              "Wonderful               1\n",
              "Name: status, dtype: int64"
            ]
          },
          "metadata": {},
          "execution_count": 16
        }
      ]
    },
    {
      "cell_type": "code",
      "source": [
        "df[\"delivery date\"].value_counts()"
      ],
      "metadata": {
        "id": "uv64G-VzdczU",
        "colab": {
          "base_uri": "https://localhost:8080/"
        },
        "outputId": "53767835-facc-4cc8-edca-098295c8bec3"
      },
      "execution_count": null,
      "outputs": [
        {
          "output_type": "execute_result",
          "data": {
            "text/plain": [
              "2021-01-01    33033\n",
              "2021-04-01    31959\n",
              "2020-10-01    25388\n",
              "2021-07-01    21080\n",
              "2021-05-01     9118\n",
              "2021-03-01     8848\n",
              "2020-07-01     7706\n",
              "2020-12-01     7532\n",
              "2021-02-01     7295\n",
              "2020-11-01     7179\n",
              "2021-06-01     7005\n",
              "2020-09-01     6131\n",
              "2020-08-01     4866\n",
              "2021-08-01     3748\n",
              "2021-09-01      332\n",
              "2021-10-01      191\n",
              "2020-01-01      129\n",
              "2020-04-01       57\n",
              "2020-06-01       33\n",
              "2020-05-01       15\n",
              "2021-12-01       12\n",
              "2022-01-01        6\n",
              "2019-07-01        3\n",
              "2021-11-01        2\n",
              "2019-04-01        1\n",
              "2019-10-01        1\n",
              "Name: delivery date, dtype: int64"
            ]
          },
          "metadata": {},
          "execution_count": 17
        }
      ]
    },
    {
      "cell_type": "code",
      "source": [
        "df[\"item type\"].value_counts()"
      ],
      "metadata": {
        "id": "ZZoIDbqdzahL",
        "colab": {
          "base_uri": "https://localhost:8080/"
        },
        "outputId": "cd7af47f-cff6-45a2-f318-9557f0c5b0da"
      },
      "execution_count": null,
      "outputs": [
        {
          "output_type": "execute_result",
          "data": {
            "text/plain": [
              "W         105615\n",
              "S          69236\n",
              "PL          5660\n",
              "Others       610\n",
              "WI           524\n",
              "IPL           27\n",
              "SLAWR          1\n",
              "Name: item type, dtype: int64"
            ]
          },
          "metadata": {},
          "execution_count": 18
        }
      ]
    },
    {
      "cell_type": "code",
      "source": [
        "df[\"application\"].value_counts()"
      ],
      "metadata": {
        "colab": {
          "base_uri": "https://localhost:8080/"
        },
        "id": "jW2QcqVZXYpT",
        "outputId": "b3a110d1-0c78-4f30-b209-e86449a56d13"
      },
      "execution_count": null,
      "outputs": [
        {
          "output_type": "execute_result",
          "data": {
            "text/plain": [
              "10.0    77544\n",
              "41.0    46261\n",
              "15.0    20772\n",
              "59.0     8927\n",
              "42.0     5858\n",
              "56.0     4846\n",
              "29.0     1937\n",
              "27.0     1784\n",
              "26.0     1650\n",
              "28.0     1591\n",
              "40.0     1576\n",
              "25.0     1498\n",
              "79.0     1422\n",
              "22.0     1023\n",
              "20.0      768\n",
              "66.0      718\n",
              "3.0       657\n",
              "38.0      511\n",
              "58.0      447\n",
              "4.0       286\n",
              "39.0      267\n",
              "65.0      247\n",
              "67.0      221\n",
              "68.0      181\n",
              "99.0      146\n",
              "19.0      143\n",
              "69.0      122\n",
              "5.0       110\n",
              "70.0      102\n",
              "2.0        34\n",
              "Name: application, dtype: int64"
            ]
          },
          "metadata": {},
          "execution_count": 19
        }
      ]
    },
    {
      "cell_type": "code",
      "source": [
        "df[\"application\"].value_counts()"
      ],
      "metadata": {
        "id": "A8hNHQhUXY05"
      },
      "execution_count": null,
      "outputs": []
    },
    {
      "cell_type": "code",
      "source": [
        "df.describe()"
      ],
      "metadata": {
        "colab": {
          "base_uri": "https://localhost:8080/",
          "height": 381
        },
        "id": "BqcL_brCTHSr",
        "outputId": "a0f60fe6-2cce-412e-b4ed-f1edb51b9d4f"
      },
      "execution_count": null,
      "outputs": [
        {
          "output_type": "execute_result",
          "data": {
            "text/plain": [
              "          item_date      customer        country    application  \\\n",
              "count  1.816720e+05  1.816720e+05  181645.000000  181649.000000   \n",
              "mean   2.020459e+07  3.051221e+07      44.893022      25.615809   \n",
              "std    4.551119e+03  2.433382e+07      24.404214      17.754175   \n",
              "min    1.995000e+07  1.245800e+04      25.000000       2.000000   \n",
              "25%    2.020093e+07  3.019688e+07      26.000000      10.000000   \n",
              "50%    2.020113e+07  3.020524e+07      30.000000      15.000000   \n",
              "75%    2.021020e+07  3.028042e+07      78.000000      41.000000   \n",
              "max    2.021040e+07  2.147484e+09     113.000000      99.000000   \n",
              "\n",
              "           thickness          width   product_ref  delivery date  \\\n",
              "count  181672.000000  181673.000000  1.816730e+05   1.816720e+05   \n",
              "mean        2.564827    1295.286724  4.739679e+08   2.020738e+07   \n",
              "std         6.572321     261.631754  7.175101e+08   2.411059e+04   \n",
              "min         0.180000       1.000000  6.117280e+05   2.019040e+07   \n",
              "25%         0.700000    1180.000000  6.119930e+05   2.020110e+07   \n",
              "50%         1.500000    1250.000000  6.406650e+05   2.021010e+07   \n",
              "75%         3.000000    1500.000000  1.332077e+09   2.021040e+07   \n",
              "max      2500.000000    2990.000000  1.722208e+09   3.031010e+07   \n",
              "\n",
              "       selling_price  \n",
              "count   1.816720e+05  \n",
              "mean    1.918036e+03  \n",
              "std     3.317956e+05  \n",
              "min    -1.160000e+03  \n",
              "25%     6.690000e+02  \n",
              "50%     8.120000e+02  \n",
              "75%     9.530000e+02  \n",
              "max     1.000010e+08  "
            ],
            "text/html": [
              "\n",
              "  <div id=\"df-e78556bf-d196-41cb-93f3-7c03dbd69e73\">\n",
              "    <div class=\"colab-df-container\">\n",
              "      <div>\n",
              "<style scoped>\n",
              "    .dataframe tbody tr th:only-of-type {\n",
              "        vertical-align: middle;\n",
              "    }\n",
              "\n",
              "    .dataframe tbody tr th {\n",
              "        vertical-align: top;\n",
              "    }\n",
              "\n",
              "    .dataframe thead th {\n",
              "        text-align: right;\n",
              "    }\n",
              "</style>\n",
              "<table border=\"1\" class=\"dataframe\">\n",
              "  <thead>\n",
              "    <tr style=\"text-align: right;\">\n",
              "      <th></th>\n",
              "      <th>item_date</th>\n",
              "      <th>customer</th>\n",
              "      <th>country</th>\n",
              "      <th>application</th>\n",
              "      <th>thickness</th>\n",
              "      <th>width</th>\n",
              "      <th>product_ref</th>\n",
              "      <th>delivery date</th>\n",
              "      <th>selling_price</th>\n",
              "    </tr>\n",
              "  </thead>\n",
              "  <tbody>\n",
              "    <tr>\n",
              "      <th>count</th>\n",
              "      <td>1.816720e+05</td>\n",
              "      <td>1.816720e+05</td>\n",
              "      <td>181645.000000</td>\n",
              "      <td>181649.000000</td>\n",
              "      <td>181672.000000</td>\n",
              "      <td>181673.000000</td>\n",
              "      <td>1.816730e+05</td>\n",
              "      <td>1.816720e+05</td>\n",
              "      <td>1.816720e+05</td>\n",
              "    </tr>\n",
              "    <tr>\n",
              "      <th>mean</th>\n",
              "      <td>2.020459e+07</td>\n",
              "      <td>3.051221e+07</td>\n",
              "      <td>44.893022</td>\n",
              "      <td>25.615809</td>\n",
              "      <td>2.564827</td>\n",
              "      <td>1295.286724</td>\n",
              "      <td>4.739679e+08</td>\n",
              "      <td>2.020738e+07</td>\n",
              "      <td>1.918036e+03</td>\n",
              "    </tr>\n",
              "    <tr>\n",
              "      <th>std</th>\n",
              "      <td>4.551119e+03</td>\n",
              "      <td>2.433382e+07</td>\n",
              "      <td>24.404214</td>\n",
              "      <td>17.754175</td>\n",
              "      <td>6.572321</td>\n",
              "      <td>261.631754</td>\n",
              "      <td>7.175101e+08</td>\n",
              "      <td>2.411059e+04</td>\n",
              "      <td>3.317956e+05</td>\n",
              "    </tr>\n",
              "    <tr>\n",
              "      <th>min</th>\n",
              "      <td>1.995000e+07</td>\n",
              "      <td>1.245800e+04</td>\n",
              "      <td>25.000000</td>\n",
              "      <td>2.000000</td>\n",
              "      <td>0.180000</td>\n",
              "      <td>1.000000</td>\n",
              "      <td>6.117280e+05</td>\n",
              "      <td>2.019040e+07</td>\n",
              "      <td>-1.160000e+03</td>\n",
              "    </tr>\n",
              "    <tr>\n",
              "      <th>25%</th>\n",
              "      <td>2.020093e+07</td>\n",
              "      <td>3.019688e+07</td>\n",
              "      <td>26.000000</td>\n",
              "      <td>10.000000</td>\n",
              "      <td>0.700000</td>\n",
              "      <td>1180.000000</td>\n",
              "      <td>6.119930e+05</td>\n",
              "      <td>2.020110e+07</td>\n",
              "      <td>6.690000e+02</td>\n",
              "    </tr>\n",
              "    <tr>\n",
              "      <th>50%</th>\n",
              "      <td>2.020113e+07</td>\n",
              "      <td>3.020524e+07</td>\n",
              "      <td>30.000000</td>\n",
              "      <td>15.000000</td>\n",
              "      <td>1.500000</td>\n",
              "      <td>1250.000000</td>\n",
              "      <td>6.406650e+05</td>\n",
              "      <td>2.021010e+07</td>\n",
              "      <td>8.120000e+02</td>\n",
              "    </tr>\n",
              "    <tr>\n",
              "      <th>75%</th>\n",
              "      <td>2.021020e+07</td>\n",
              "      <td>3.028042e+07</td>\n",
              "      <td>78.000000</td>\n",
              "      <td>41.000000</td>\n",
              "      <td>3.000000</td>\n",
              "      <td>1500.000000</td>\n",
              "      <td>1.332077e+09</td>\n",
              "      <td>2.021040e+07</td>\n",
              "      <td>9.530000e+02</td>\n",
              "    </tr>\n",
              "    <tr>\n",
              "      <th>max</th>\n",
              "      <td>2.021040e+07</td>\n",
              "      <td>2.147484e+09</td>\n",
              "      <td>113.000000</td>\n",
              "      <td>99.000000</td>\n",
              "      <td>2500.000000</td>\n",
              "      <td>2990.000000</td>\n",
              "      <td>1.722208e+09</td>\n",
              "      <td>3.031010e+07</td>\n",
              "      <td>1.000010e+08</td>\n",
              "    </tr>\n",
              "  </tbody>\n",
              "</table>\n",
              "</div>\n",
              "      <button class=\"colab-df-convert\" onclick=\"convertToInteractive('df-e78556bf-d196-41cb-93f3-7c03dbd69e73')\"\n",
              "              title=\"Convert this dataframe to an interactive table.\"\n",
              "              style=\"display:none;\">\n",
              "        \n",
              "  <svg xmlns=\"http://www.w3.org/2000/svg\" height=\"24px\"viewBox=\"0 0 24 24\"\n",
              "       width=\"24px\">\n",
              "    <path d=\"M0 0h24v24H0V0z\" fill=\"none\"/>\n",
              "    <path d=\"M18.56 5.44l.94 2.06.94-2.06 2.06-.94-2.06-.94-.94-2.06-.94 2.06-2.06.94zm-11 1L8.5 8.5l.94-2.06 2.06-.94-2.06-.94L8.5 2.5l-.94 2.06-2.06.94zm10 10l.94 2.06.94-2.06 2.06-.94-2.06-.94-.94-2.06-.94 2.06-2.06.94z\"/><path d=\"M17.41 7.96l-1.37-1.37c-.4-.4-.92-.59-1.43-.59-.52 0-1.04.2-1.43.59L10.3 9.45l-7.72 7.72c-.78.78-.78 2.05 0 2.83L4 21.41c.39.39.9.59 1.41.59.51 0 1.02-.2 1.41-.59l7.78-7.78 2.81-2.81c.8-.78.8-2.07 0-2.86zM5.41 20L4 18.59l7.72-7.72 1.47 1.35L5.41 20z\"/>\n",
              "  </svg>\n",
              "      </button>\n",
              "      \n",
              "  <style>\n",
              "    .colab-df-container {\n",
              "      display:flex;\n",
              "      flex-wrap:wrap;\n",
              "      gap: 12px;\n",
              "    }\n",
              "\n",
              "    .colab-df-convert {\n",
              "      background-color: #E8F0FE;\n",
              "      border: none;\n",
              "      border-radius: 50%;\n",
              "      cursor: pointer;\n",
              "      display: none;\n",
              "      fill: #1967D2;\n",
              "      height: 32px;\n",
              "      padding: 0 0 0 0;\n",
              "      width: 32px;\n",
              "    }\n",
              "\n",
              "    .colab-df-convert:hover {\n",
              "      background-color: #E2EBFA;\n",
              "      box-shadow: 0px 1px 2px rgba(60, 64, 67, 0.3), 0px 1px 3px 1px rgba(60, 64, 67, 0.15);\n",
              "      fill: #174EA6;\n",
              "    }\n",
              "\n",
              "    [theme=dark] .colab-df-convert {\n",
              "      background-color: #3B4455;\n",
              "      fill: #D2E3FC;\n",
              "    }\n",
              "\n",
              "    [theme=dark] .colab-df-convert:hover {\n",
              "      background-color: #434B5C;\n",
              "      box-shadow: 0px 1px 3px 1px rgba(0, 0, 0, 0.15);\n",
              "      filter: drop-shadow(0px 1px 2px rgba(0, 0, 0, 0.3));\n",
              "      fill: #FFFFFF;\n",
              "    }\n",
              "  </style>\n",
              "\n",
              "      <script>\n",
              "        const buttonEl =\n",
              "          document.querySelector('#df-e78556bf-d196-41cb-93f3-7c03dbd69e73 button.colab-df-convert');\n",
              "        buttonEl.style.display =\n",
              "          google.colab.kernel.accessAllowed ? 'block' : 'none';\n",
              "\n",
              "        async function convertToInteractive(key) {\n",
              "          const element = document.querySelector('#df-e78556bf-d196-41cb-93f3-7c03dbd69e73');\n",
              "          const dataTable =\n",
              "            await google.colab.kernel.invokeFunction('convertToInteractive',\n",
              "                                                     [key], {});\n",
              "          if (!dataTable) return;\n",
              "\n",
              "          const docLinkHtml = 'Like what you see? Visit the ' +\n",
              "            '<a target=\"_blank\" href=https://colab.research.google.com/notebooks/data_table.ipynb>data table notebook</a>'\n",
              "            + ' to learn more about interactive tables.';\n",
              "          element.innerHTML = '';\n",
              "          dataTable['output_type'] = 'display_data';\n",
              "          await google.colab.output.renderOutput(dataTable, element);\n",
              "          const docLink = document.createElement('div');\n",
              "          docLink.innerHTML = docLinkHtml;\n",
              "          element.appendChild(docLink);\n",
              "        }\n",
              "      </script>\n",
              "    </div>\n",
              "  </div>\n",
              "  "
            ]
          },
          "metadata": {},
          "execution_count": 15
        }
      ]
    },
    {
      "cell_type": "code",
      "source": [
        "df.isnull().sum()"
      ],
      "metadata": {
        "colab": {
          "base_uri": "https://localhost:8080/"
        },
        "id": "ZRT0l2sRUn4i",
        "outputId": "275fd4b5-98df-4f5b-d27d-877b4b0e66f5"
      },
      "execution_count": null,
      "outputs": [
        {
          "output_type": "execute_result",
          "data": {
            "text/plain": [
              "id                   2\n",
              "item_date            1\n",
              "quantity tons        0\n",
              "customer             1\n",
              "country             28\n",
              "status               2\n",
              "item type            0\n",
              "application         24\n",
              "thickness            1\n",
              "width                0\n",
              "material_ref     77919\n",
              "product_ref          0\n",
              "delivery date        1\n",
              "selling_price        1\n",
              "dtype: int64"
            ]
          },
          "metadata": {},
          "execution_count": 19
        }
      ]
    },
    {
      "cell_type": "code",
      "source": [
        "# material_ref has large set of null values, so replacing them with unknown \n",
        "df['material_ref'].fillna('unknown', inplace=True)\n",
        "# deleting the remaining null values as they are less than 1% of data which can be neglected\n",
        "df = df.dropna()"
      ],
      "metadata": {
        "id": "N1wCCF3qfRr0"
      },
      "execution_count": null,
      "outputs": []
    },
    {
      "cell_type": "code",
      "source": [
        "missing_values_count = df.isnull().sum()\n",
        "print(missing_values_count)\n",
        "print(df.shape)"
      ],
      "metadata": {
        "colab": {
          "base_uri": "https://localhost:8080/"
        },
        "id": "60wgyfA4fR6C",
        "outputId": "fa22eddb-053a-44fc-af99-0529a42aa44c"
      },
      "execution_count": null,
      "outputs": [
        {
          "output_type": "stream",
          "name": "stdout",
          "text": [
            "id               0\n",
            "item_date        0\n",
            "quantity tons    0\n",
            "customer         0\n",
            "country          0\n",
            "status           0\n",
            "item type        0\n",
            "application      0\n",
            "thickness        0\n",
            "width            0\n",
            "material_ref     0\n",
            "product_ref      0\n",
            "delivery date    0\n",
            "selling_price    0\n",
            "dtype: int64\n",
            "(181631, 14)\n"
          ]
        }
      ]
    },
    {
      "cell_type": "code",
      "source": [
        "# ['quantity tons','selling_price','application','thickness','width', 'country']\n",
        "# ['status','item type']\n",
        "\n",
        "df['quantity tons']   # skewed\n",
        "df['country']\n",
        "df['application']\n",
        "df['thickness']       # skewed\n",
        "df['width']           \n",
        "df['selling_price']   # skewed\n",
        "\n",
        "import seaborn as sns\n",
        "import matplotlib.pyplot as plt\n",
        "sns.distplot(df['quantity tons'])\n",
        "plt.show()\n",
        "sns.distplot(df['country'])\n",
        "plt.show()\n",
        "sns.distplot(df['application'])\n",
        "plt.show()\n",
        "sns.distplot(df['thickness'])\n",
        "plt.show()\n",
        "sns.distplot(df['width'])\n",
        "plt.show()\n",
        "sns.distplot(df['selling_price'])\n",
        "plt.show()"
      ],
      "metadata": {
        "colab": {
          "base_uri": "https://localhost:8080/",
          "height": 1000
        },
        "id": "EtZu1BUrfT_q",
        "outputId": "7a17eb1b-f1e4-4924-efaf-ad4c5dc1823d"
      },
      "execution_count": null,
      "outputs": [
        {
          "output_type": "display_data",
          "data": {
            "text/plain": [
              "<Figure size 640x480 with 1 Axes>"
            ],
            "image/png": "[encoded data removed]"
          },
          "metadata": {}
        },
        {
          "output_type": "display_data",
          "data": {
            "text/plain": [
              "<Figure size 640x480 with 1 Axes>"
            ],
            "image/png": "[encoded data removed]"
          },
          "metadata": {}
        },
        {
          "output_type": "display_data",
          "data": {
            "text/plain": [
              "<Figure size 640x480 with 1 Axes>"
            ],
            "image/png": "[encoded data removed]"
          },
          "metadata": {}
        },
        {
          "output_type": "display_data",
          "data": {
            "text/plain": [
              "<Figure size 640x480 with 1 Axes>"
            ],
            "image/png": "[encoded data removed]"
          },
          "metadata": {}
        },
        {
          "output_type": "display_data",
          "data": {
            "text/plain": [
              "<Figure size 640x480 with 1 Axes>"
            ],
            "image/png": "[encoded data removed]"
          },
          "metadata": {}
        },
        {
          "output_type": "display_data",
          "data": {
            "text/plain": [
              "<Figure size 640x480 with 1 Axes>"
            ],
            "image/png": "[encoded data removed]"
          },
          "metadata": {}
        }
      ]
    },
    {
      "cell_type": "code",
      "source": [],
      "metadata": {
        "id": "G67E_ZHSfYWp"
      },
      "execution_count": null,
      "outputs": []
    }
  ]
}